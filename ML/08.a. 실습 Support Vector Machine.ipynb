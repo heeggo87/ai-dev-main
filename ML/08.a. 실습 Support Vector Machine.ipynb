{
 "cells": [
  {
   "cell_type": "code",
   "execution_count": 8,
   "id": "7ed3f1c2-f5a2-4952-9a24-65c3436617cc",
   "metadata": {},
   "outputs": [],
   "source": [
    "import joblib"
   ]
  },
  {
   "cell_type": "code",
   "execution_count": 9,
   "id": "84aa40d1-edae-4a0e-b9c0-fd527652f789",
   "metadata": {},
   "outputs": [],
   "source": [
    "pipe = joblib.load('pipe_svm.pkl')"
   ]
  },
  {
   "cell_type": "markdown",
   "id": "f34506d8-0e97-4fea-8523-666cf29d70c7",
   "metadata": {},
   "source": [
    "### 나이는 37세, 연봉은 43000달러입니다. 이 고객은 구매를 할까요? "
   ]
  },
  {
   "cell_type": "code",
   "execution_count": 10,
   "id": "804ee4ed-e545-4e85-9146-53f905829f49",
   "metadata": {},
   "outputs": [],
   "source": [
    "data = [{'Age':37, 'EstimatedSalary':43000}]"
   ]
  },
  {
   "cell_type": "code",
   "execution_count": 11,
   "id": "fdb46dae-677a-406a-936a-cffb87831d89",
   "metadata": {},
   "outputs": [],
   "source": [
    "import pandas as pd"
   ]
  },
  {
   "cell_type": "code",
   "execution_count": 12,
   "id": "97e3f2ef-699d-4e7a-8747-b8d41a1b779a",
   "metadata": {},
   "outputs": [],
   "source": [
    "new_data = pd.DataFrame(data)"
   ]
  },
  {
   "cell_type": "code",
   "execution_count": 6,
   "id": "e62d2288-bb30-48e1-b3f5-81b19199c305",
   "metadata": {},
   "outputs": [
    {
     "data": {
      "text/html": [
       "<div>\n",
       "<style scoped>\n",
       "    .dataframe tbody tr th:only-of-type {\n",
       "        vertical-align: middle;\n",
       "    }\n",
       "\n",
       "    .dataframe tbody tr th {\n",
       "        vertical-align: top;\n",
       "    }\n",
       "\n",
       "    .dataframe thead th {\n",
       "        text-align: right;\n",
       "    }\n",
       "</style>\n",
       "<table border=\"1\" class=\"dataframe\">\n",
       "  <thead>\n",
       "    <tr style=\"text-align: right;\">\n",
       "      <th></th>\n",
       "      <th>Age</th>\n",
       "      <th>EstimatedSalary</th>\n",
       "    </tr>\n",
       "  </thead>\n",
       "  <tbody>\n",
       "    <tr>\n",
       "      <th>0</th>\n",
       "      <td>37</td>\n",
       "      <td>43000</td>\n",
       "    </tr>\n",
       "  </tbody>\n",
       "</table>\n",
       "</div>"
      ],
      "text/plain": [
       "   Age  EstimatedSalary\n",
       "0   37            43000"
      ]
     },
     "execution_count": 6,
     "metadata": {},
     "output_type": "execute_result"
    }
   ],
   "source": [
    "new_data"
   ]
  },
  {
   "cell_type": "code",
   "execution_count": 7,
   "id": "f73dc630-d614-49c8-b98b-d47eaff1b681",
   "metadata": {},
   "outputs": [
    {
     "data": {
      "text/plain": [
       "array([0])"
      ]
     },
     "execution_count": 7,
     "metadata": {},
     "output_type": "execute_result"
    }
   ],
   "source": [
    "pipe.predict(new_data)"
   ]
  },
  {
   "cell_type": "code",
   "execution_count": null,
   "id": "a4e3b393-5243-41c0-97b3-82a56de0e0b8",
   "metadata": {},
   "outputs": [],
   "source": []
  },
  {
   "cell_type": "code",
   "execution_count": 14,
   "id": "1a185122-73a9-46ef-9fd9-155c50aedb26",
   "metadata": {},
   "outputs": [],
   "source": [
    "classifier = joblib.load('randomforest_c.pkl')"
   ]
  },
  {
   "cell_type": "code",
   "execution_count": 18,
   "id": "c0cba291-90c3-421f-8d23-35f817943c20",
   "metadata": {},
   "outputs": [],
   "source": [
    "scaler_X = joblib.load('scaler_X.pkl')"
   ]
  },
  {
   "cell_type": "code",
   "execution_count": 20,
   "id": "602c496d-5841-4f65-a1a3-2d05968b08b7",
   "metadata": {},
   "outputs": [],
   "source": [
    "new_data = scaler_X.transform(new_data)"
   ]
  },
  {
   "cell_type": "code",
   "execution_count": 21,
   "id": "07f69fc7-abe3-423e-ae76-afa1f8a81f60",
   "metadata": {},
   "outputs": [
    {
     "data": {
      "text/plain": [
       "array([[-0.0625611 , -0.78528968]])"
      ]
     },
     "execution_count": 21,
     "metadata": {},
     "output_type": "execute_result"
    }
   ],
   "source": [
    "new_data"
   ]
  },
  {
   "cell_type": "code",
   "execution_count": 22,
   "id": "05a13aab-70b1-43f7-bb41-844a2358cd72",
   "metadata": {},
   "outputs": [
    {
     "data": {
      "text/plain": [
       "array([0])"
      ]
     },
     "execution_count": 22,
     "metadata": {},
     "output_type": "execute_result"
    }
   ],
   "source": [
    "classifier.predict(new_data)"
   ]
  },
  {
   "cell_type": "code",
   "execution_count": null,
   "id": "2f2cb175-91a3-41a3-91bd-99038a893d28",
   "metadata": {},
   "outputs": [],
   "source": []
  },
  {
   "cell_type": "code",
   "execution_count": null,
   "id": "3679ce1f-246b-45cb-972f-344ec463763c",
   "metadata": {},
   "outputs": [],
   "source": []
  },
  {
   "cell_type": "code",
   "execution_count": null,
   "id": "9e1ba5e3-7974-4ae8-984e-bd9cd8cca99c",
   "metadata": {},
   "outputs": [],
   "source": []
  },
  {
   "cell_type": "code",
   "execution_count": null,
   "id": "a622fbdc-f9ee-4b4b-bff4-c5491e90be38",
   "metadata": {},
   "outputs": [],
   "source": []
  },
  {
   "cell_type": "code",
   "execution_count": null,
   "id": "3add6872-5a05-4c62-9a4c-201877fa5074",
   "metadata": {},
   "outputs": [],
   "source": []
  }
 ],
 "metadata": {
  "kernelspec": {
   "display_name": "Python 3 (ipykernel)",
   "language": "python",
   "name": "python3"
  },
  "language_info": {
   "codemirror_mode": {
    "name": "ipython",
    "version": 3
   },
   "file_extension": ".py",
   "mimetype": "text/x-python",
   "name": "python",
   "nbconvert_exporter": "python",
   "pygments_lexer": "ipython3",
   "version": "3.10.18"
  }
 },
 "nbformat": 4,
 "nbformat_minor": 5
}
